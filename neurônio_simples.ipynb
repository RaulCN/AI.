{
  "nbformat": 4,
  "nbformat_minor": 0,
  "metadata": {
    "colab": {
      "name": "neurônio_simples.ipynb",
      "version": "0.3.2",
      "provenance": [],
      "include_colab_link": true
    },
    "kernelspec": {
      "name": "python3",
      "display_name": "Python 3"
    }
  },
  "cells": [
    {
      "cell_type": "markdown",
      "metadata": {
        "id": "view-in-github",
        "colab_type": "text"
      },
      "source": [
        "<a href=\"https://colab.research.google.com/github/Topiarau/AI./blob/master/neur%C3%B4nio_simples.ipynb\" target=\"_parent\"><img src=\"https://colab.research.google.com/assets/colab-badge.svg\" alt=\"Open In Colab\"/></a>"
      ]
    },
    {
      "metadata": {
        "id": "f4N70ce0YI7h",
        "colab_type": "text"
      },
      "cell_type": "markdown",
      "source": [
        "Código baseado [neste tutorial](https://www.youtube.com/watch?v=uCPWzs28Py4&list=PLxWEfWCujM7Y3Xf1bAxpICRlw2jt1a4S7&index=6&fbclid=IwAR2KSxNLUBcbOPakkq4KUNWQrT1WYrGDqQ8x8XLJUZLgX_H-E3JnBSKjDg4&ab_channel=64Bits)\n"
      ]
    },
    {
      "metadata": {
        "id": "1QP2vmUIOq-w",
        "colab_type": "code",
        "colab": {}
      },
      "cell_type": "code",
      "source": [
        "import numpy as np\n"
      ],
      "execution_count": 0,
      "outputs": []
    },
    {
      "metadata": {
        "id": "mSydr3_DVXzZ",
        "colab_type": "code",
        "colab": {}
      },
      "cell_type": "code",
      "source": [
        "entradas_do_treinamento = np.array([0.5, 0.1])\n",
        "pesos_das_entradas = np.array([0.1, 0.2])\n",
        "bias = 0.3"
      ],
      "execution_count": 0,
      "outputs": []
    },
    {
      "metadata": {
        "id": "AQCDex24V2n8",
        "colab_type": "code",
        "colab": {}
      },
      "cell_type": "code",
      "source": [
        "entrada_para_ativacao = np.dot(pesos_das_entradas, entradas_do_treinamento) + bias"
      ],
      "execution_count": 0,
      "outputs": []
    },
    {
      "metadata": {
        "id": "cFtBaqh1XqOJ",
        "colab_type": "text"
      },
      "cell_type": "markdown",
      "source": [
        ""
      ]
    },
    {
      "metadata": {
        "id": "c6JqbsCtWBr3",
        "colab_type": "code",
        "colab": {}
      },
      "cell_type": "code",
      "source": [
        "def degrau(entrada):\n",
        "    if(entrada>=0):\n",
        "        return 1\n",
        "    else:\n",
        "        return 0"
      ],
      "execution_count": 0,
      "outputs": []
    },
    {
      "metadata": {
        "id": "QK3qq265WTiZ",
        "colab_type": "code",
        "colab": {}
      },
      "cell_type": "code",
      "source": [
        "saida_do_neuronio = degrau(entrada_para_ativacao)"
      ],
      "execution_count": 0,
      "outputs": []
    },
    {
      "metadata": {
        "id": "3LeXrU3XWaja",
        "colab_type": "code",
        "colab": {
          "base_uri": "https://localhost:8080/",
          "height": 34
        },
        "outputId": "efe79b70-4d08-4f13-8851-f795c9648457"
      },
      "cell_type": "code",
      "source": [
        "print(f'Valor de saída do neurônio: {saida_do_neuronio}')"
      ],
      "execution_count": 18,
      "outputs": [
        {
          "output_type": "stream",
          "text": [
            "Valor de saída do neurônio: 1\n"
          ],
          "name": "stdout"
        }
      ]
    }
  ]
}